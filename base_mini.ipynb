{
 "cells": [
  {
   "cell_type": "code",
   "execution_count": 1,
   "id": "739c9e75-81b0-4ea0-9a00-239045e70731",
   "metadata": {},
   "outputs": [],
   "source": [
    "import os\n",
    "import pickle\n",
    "import cfgrib\n",
    "import numpy as np\n",
    "import pandas as pd\n",
    "import geopandas as gpd\n",
    "import cartopy.crs as ccrs\n",
    "import matplotlib.pyplot as plt\n",
    "from catboost import Pool, CatBoostClassifier\n",
    "from OSMPythonTools.nominatim import Nominatim\n",
    "from OSMPythonTools.overpass import overpassQueryBuilder, Overpass\n",
    "\n",
    "# модули из репозитория https://github.com/sberbank-ai/no_fire_with_ai_aij2021\n",
    "import helpers, preprocessing, features_generation, prepare_train\n",
    "from solution import FEATURES\n",
    "\n",
    "import warnings\n",
    "warnings.simplefilter(\"ignore\")\n",
    "plt.rcParams[\"figure.figsize\"] = (16,8)"
   ]
  },
  {
   "cell_type": "code",
   "execution_count": 2,
   "id": "ccfe8455-e290-4c92-a420-6537d38948bb",
   "metadata": {
    "tags": []
   },
   "outputs": [],
   "source": [
    "train = pd.read_csv('train.csv')\n",
    "val = pd.read_csv('val.csv')\n",
    "train = train.iloc[: , 1:]\n",
    "val = val.iloc[: , 1:]"
   ]
  },
  {
   "cell_type": "code",
   "execution_count": 3,
   "id": "4f550796-bdce-4fc1-9731-6f9bb4de9d05",
   "metadata": {},
   "outputs": [
    {
     "data": {
      "text/plain": [
       "[201, 203, 204, 205, 206]"
      ]
     },
     "execution_count": 3,
     "metadata": {},
     "output_type": "execute_result"
    }
   ],
   "source": [
    "cat_features = ['month', 'day', 'weekofyear', 'dayofweek', 'place']\n",
    "cat_features = train[FEATURES].columns.intersection(cat_features)\n",
    "cat_features = [train[FEATURES].columns.get_loc(feat) for feat in cat_features]\n",
    "cat_features"
   ]
  },
  {
   "cell_type": "code",
   "execution_count": 4,
   "id": "71b1bebe-563f-4380-a4fb-a18dfdddfe3d",
   "metadata": {},
   "outputs": [],
   "source": [
    "def get_multiclass_target(df):\n",
    "    df = df.copy()\n",
    "    for i in range(8, 0, -1):\n",
    "        df.loc[df[f'infire_day_{i}'] == 1, 'multiclass'] = i\n",
    "    df.fillna(0, inplace=True)\n",
    "    return df.multiclass"
   ]
  },
  {
   "cell_type": "code",
   "execution_count": 5,
   "id": "cee637b3-d2fb-4057-8a8b-4e451a16bc92",
   "metadata": {},
   "outputs": [],
   "source": [
    "train_targets = train.iloc[:,11:11+8]\n",
    "val_targets = val.iloc[:,11:11+8]\n",
    "train_target_mc = get_multiclass_target(train_targets)\n",
    "val_target_mc = get_multiclass_target(val_targets)"
   ]
  },
  {
   "cell_type": "code",
   "execution_count": 6,
   "id": "21c9b6ac-8bdd-4a0c-9615-6e7fda9824d9",
   "metadata": {},
   "outputs": [],
   "source": [
    "train.fillna(0, inplace=True)\n",
    "val.fillna(0, inplace=True)"
   ]
  },
  {
   "cell_type": "code",
   "execution_count": 7,
   "id": "488c1eef-75c7-4bd3-8300-01474af57636",
   "metadata": {},
   "outputs": [
    {
     "data": {
      "text/plain": [
       "<catboost.core.CatBoostClassifier at 0x7f09cc7c69d0>"
      ]
     },
     "execution_count": 7,
     "metadata": {},
     "output_type": "execute_result"
    }
   ],
   "source": [
    "train_dataset_mc = Pool(data=train[FEATURES],\n",
    "                    label=train_target_mc,\n",
    "                    cat_features=cat_features)\n",
    "\n",
    "eval_dataset_mc = Pool(data=val[FEATURES],\n",
    "                    label=val_target_mc,\n",
    "                    cat_features=cat_features)\n",
    "model_mc = CatBoostClassifier(iterations=100, random_seed=8,\n",
    "                              eval_metric='MultiClass', auto_class_weights=\"Balanced\")\n",
    "model_mc.fit(train_dataset_mc,\n",
    "          eval_set=eval_dataset_mc,\n",
    "          verbose=False)"
   ]
  },
  {
   "cell_type": "code",
   "execution_count": 8,
   "id": "65e4e28a-04ff-420f-9748-72027609814e",
   "metadata": {},
   "outputs": [],
   "source": [
    "train_targets = (\n",
    "    train_targets.replace(0, np.nan).fillna(axis=1, method=\"ffill\").fillna(0).astype(int)\n",
    ")\n",
    "\n",
    "val_targets = (\n",
    "    val_targets.replace(0, np.nan).fillna(axis=1, method=\"ffill\").fillna(0).astype(int)\n",
    ")"
   ]
  },
  {
   "cell_type": "code",
   "execution_count": 9,
   "id": "657c68d9-0cf5-44bb-a9bd-a7916577a553",
   "metadata": {},
   "outputs": [],
   "source": [
    "models = []\n",
    "for i in range(8):\n",
    "    train_dataset = Pool(data=train[FEATURES],\n",
    "                        label=train_targets.iloc[:,i],\n",
    "                        cat_features=cat_features)\n",
    "\n",
    "    eval_dataset = Pool(data=val[FEATURES],\n",
    "                        label=val_targets.iloc[:,i],\n",
    "                        cat_features=cat_features)\n",
    "    model = CatBoostClassifier(iterations=100, random_seed=i+1, eval_metric='F1', auto_class_weights=\"Balanced\")\n",
    "    model.fit(train_dataset,\n",
    "              eval_set=eval_dataset,\n",
    "              verbose=False)\n",
    "    models.append(model)"
   ]
  },
  {
   "cell_type": "code",
   "execution_count": 13,
   "id": "053ea8bc-3f33-4c09-a673-4f83bec41f83",
   "metadata": {},
   "outputs": [],
   "source": [
    "if not os.path.exists(\"models/\"):\n",
    "    os.mkdir(\"models/\")\n",
    "for idx, model in enumerate(models):\n",
    "    path_to_model = f\"models/model_{idx+1}_day.pkl\"\n",
    "\n",
    "    with open(path_to_model, 'wb') as f:  \n",
    "        pickle.dump(model, f)\n",
    "        \n",
    "with open(\"models/model_mc.pkl\", 'wb') as f:  \n",
    "    pickle.dump(model_mc, f)"
   ]
  },
  {
   "cell_type": "code",
   "execution_count": 11,
   "id": "b79602f8-cf9b-45ea-86e9-3785ac55b3e5",
   "metadata": {},
   "outputs": [],
   "source": [
    "# helpers.competition_metric(, )"
   ]
  }
 ],
 "metadata": {
  "kernelspec": {
   "display_name": "Python 3.7.10 64-bit ('nfwai': conda)",
   "language": "python",
   "name": "python3710jvsc74a57bd0560b3e14f64f14c14d8b57ae5d271803629aaffb0f8d2d60d9fbb9fc78206c09"
  },
  "language_info": {
   "codemirror_mode": {
    "name": "ipython",
    "version": 3
   },
   "file_extension": ".py",
   "mimetype": "text/x-python",
   "name": "python",
   "nbconvert_exporter": "python",
   "pygments_lexer": "ipython3",
   "version": "3.7.10"
  }
 },
 "nbformat": 4,
 "nbformat_minor": 5
}
